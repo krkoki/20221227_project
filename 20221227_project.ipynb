{
  "nbformat": 4,
  "nbformat_minor": 0,
  "metadata": {
    "colab": {
      "provenance": []
    },
    "kernelspec": {
      "name": "python3",
      "display_name": "Python 3"
    },
    "language_info": {
      "name": "python"
    }
  },
  "cells": [
    {
      "cell_type": "code",
      "execution_count": null,
      "metadata": {
        "id": "fayW1CckganE"
      },
      "outputs": [],
      "source": [
        "import numpy as np\n",
        "import pandas as pd\n",
        "import seaborn as sns"
      ]
    },
    {
      "cell_type": "code",
      "source": [
        "titanic = sns.load.data_set('titanic')\n",
        "iris = sns.load.data_set('iris')\n",
        "mpg = sns.load.data_set('mpg')"
      ],
      "metadata": {
        "id": "XUKJDspagnBT"
      },
      "execution_count": null,
      "outputs": []
    },
    {
      "cell_type": "markdown",
      "source": [
        "\n",
        "\n",
        "# 1. Iris\n"
      ],
      "metadata": {
        "id": "ADa0KOIwgmbE"
      }
    },
    {
      "cell_type": "markdown",
      "source": [
        "a. 붓꽃 종(species)별로 꽃잎길이(sepal_length), 꽃잎폭(sepal_width),\n",
        "꽃받침길이(petal_length), 꽃받침폭(petal_width)의 평균, 표준편차 등\n",
        "기초통계량(describe())을 구하시오."
      ],
      "metadata": {
        "id": "gHgxsdcOg_SD"
      }
    },
    {
      "cell_type": "code",
      "source": [],
      "metadata": {
        "id": "CvC0mhsHgl3n"
      },
      "execution_count": null,
      "outputs": []
    },
    {
      "cell_type": "markdown",
      "source": [
        "b. 3분위수(Q3)와 1분위수(Q1)의 차이보다 1.5배가 크거나 작은 데이터는 이상치이다.\n",
        "즉,\n",
        "Q1 - 1.5 * (Q3 - Q1) 보다 작은 데이터\n",
        "Q3 + 1.5 * (Q3 - Q1) 보다 큰 데이터\n",
        "이 이상치를 제거하고 위의 4가지 항목에 대해서 평균, 표준편차를 구하시오."
      ],
      "metadata": {
        "id": "6DGHWffshB1r"
      }
    },
    {
      "cell_type": "code",
      "source": [],
      "metadata": {
        "id": "bBe5eUXThC5U"
      },
      "execution_count": null,
      "outputs": []
    },
    {
      "cell_type": "markdown",
      "source": [
        "# 2. Titanic"
      ],
      "metadata": {
        "id": "ICC68dpEhGms"
      }
    },
    {
      "cell_type": "markdown",
      "source": [
        "a. 타이타닉호의 승객에 대해 나이와 성별에 의한 카테고리 열인 category1 열을 만드시오.\n",
        "category1 카테고리는 다음과 같이 정의됨\n",
        "1) 20살이 넘으면 성별을 그대로 사용한다.\n",
        "2) 20살 미만이면 성별에 관계없이 “child”라고 한다."
      ],
      "metadata": {
        "id": "09cB0Jq9hJPM"
      }
    },
    {
      "cell_type": "code",
      "source": [],
      "metadata": {
        "id": "FHx5bl4EhfFz"
      },
      "execution_count": null,
      "outputs": []
    },
    {
      "cell_type": "markdown",
      "source": [
        "b. 타이타닉호의 승객 중 나이를 명시하지 않은 고객은 나이를 명시한 고객의 평균 나이 값\n",
        "이 되도록 titanic 데이터프레임을 고치시오."
      ],
      "metadata": {
        "id": "vvx4e5RnhK_c"
      }
    },
    {
      "cell_type": "code",
      "source": [],
      "metadata": {
        "id": "Y_bOtaTjhe4E"
      },
      "execution_count": null,
      "outputs": []
    },
    {
      "cell_type": "markdown",
      "source": [
        "c. 성별, 선실(class)별, 출발지(embark_town)별 생존율을 구하시오."
      ],
      "metadata": {
        "id": "Lpynn4JahLXq"
      }
    },
    {
      "cell_type": "code",
      "source": [],
      "metadata": {
        "id": "9qpfMQ1jheqb"
      },
      "execution_count": null,
      "outputs": []
    },
    {
      "cell_type": "markdown",
      "source": [
        "d. 타이타닉호 승객을 ‘미성년자’, ‘청년’, ‘중년’, ‘장년’, ‘노년’ 나이 그룹으로 나누고,\n",
        "각 그룹별 생존율을 구하시오.\n",
        "bins = [1, 20, 30, 50, 70, 100]\n",
        "labels = [\"미성년자\", \"청년\", \"중년\", \"장년\", \"노년\"]"
      ],
      "metadata": {
        "id": "zwH2eLjbhLma"
      }
    },
    {
      "cell_type": "code",
      "source": [],
      "metadata": {
        "id": "xEMyDyz3hecb"
      },
      "execution_count": null,
      "outputs": []
    },
    {
      "cell_type": "markdown",
      "source": [
        "e. qcut 명령으로 세 개의 나이 그룹을 만들고, 나이 그룹별 남녀 성비와 생존율을 구하시오."
      ],
      "metadata": {
        "id": "6kTXCg3YhP1a"
      }
    },
    {
      "cell_type": "code",
      "source": [],
      "metadata": {
        "id": "_Z0HmrAohIxq"
      },
      "execution_count": null,
      "outputs": []
    },
    {
      "cell_type": "markdown",
      "source": [
        "# 3. Mile Per Gallon"
      ],
      "metadata": {
        "id": "n5rdR7PHhTBL"
      }
    },
    {
      "cell_type": "markdown",
      "source": [
        "a. 배기량(displacement) 대비 마력(horsepower) 열(hp_per_cc)을 추가하시오."
      ],
      "metadata": {
        "id": "84DSS17-hVuj"
      }
    },
    {
      "cell_type": "code",
      "source": [
        "df['hp_per_cc']=0  \n",
        "df.head()"
      ],
      "metadata": {
        "id": "mCZuq4Q6heBT"
      },
      "execution_count": null,
      "outputs": []
    },
    {
      "cell_type": "markdown",
      "source": [
        "b. name으로부터 manufacturer(제조사)와 모델을 추출하여\n",
        "새로운 열 manufacturer와 model을 추가하고, name 열은 삭제하시오."
      ],
      "metadata": {
        "id": "kQRBU-PzhWHj"
      }
    },
    {
      "cell_type": "code",
      "source": [
        "#죄송합니다, 데이터 horespower '?' 제거를 까먹었습니다.. ㅠㅠ 시간이 없어서..."
      ],
      "metadata": {
        "id": "6xV1skSbhdvM"
      },
      "execution_count": null,
      "outputs": []
    },
    {
      "cell_type": "markdown",
      "source": [
        "c. 엔진의 실린더(cylinders) 갯수별 연비(mpg)의 평균을 구하시오."
      ],
      "metadata": {
        "id": "a2xBeNGvhWaT"
      }
    },
    {
      "cell_type": "code",
      "source": [],
      "metadata": {
        "id": "OGTSMITwhdiD"
      },
      "execution_count": null,
      "outputs": []
    },
    {
      "cell_type": "markdown",
      "source": [
        "d. 생산지(origin)별 배기량 대비 마력(hp_per_cc)의 평균을 구하시오."
      ],
      "metadata": {
        "id": "hD2I34JIhWp7"
      }
    },
    {
      "cell_type": "code",
      "source": [],
      "metadata": {
        "id": "RcWq5V44hdWs"
      },
      "execution_count": null,
      "outputs": []
    },
    {
      "cell_type": "markdown",
      "source": [
        "e. 모델이 5개 이상인 제조사에 대하여\n",
        "연비(mpg)의 평균이 가장 좋은 제조사 Top 5를 구하시오."
      ],
      "metadata": {
        "id": "DvlbR9YthXFL"
      }
    },
    {
      "cell_type": "code",
      "source": [],
      "metadata": {
        "id": "vRF4Vlp0hdKW"
      },
      "execution_count": null,
      "outputs": []
    }
  ]
}